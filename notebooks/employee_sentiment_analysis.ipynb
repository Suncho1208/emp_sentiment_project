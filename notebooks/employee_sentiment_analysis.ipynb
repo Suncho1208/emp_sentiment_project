{
 "cells": [
  {
   "cell_type": "markdown",
   "id": "f1285fa0",
   "metadata": {},
   "source": [
    "# Employee Sentiment Analysis"
   ]
  },
  {
   "cell_type": "markdown",
   "id": "e1bc4250",
   "metadata": {},
   "source": [
    "This notebook implements the *employee sentiment analysis project* as outlined in the Final LLM Assesment Requirements. It will be organized by tasks:\n",
    "1. Sentiment labeling\n",
    "2. Exploratory Data Analysis\n",
    "3. Monthly sentiment scoring\n",
    "4. Employee ranking\n",
    "5. Flight risk identification\n",
    "6. Linear regression modeling\n",
    "\n",
    "Tools used include: python, pandas, matploblib/seaborn, textblob, scikit-learn.\n",
    "\n",
    "This project was created by Andrew Cho on July 1st, 2025."
   ]
  },
  {
   "cell_type": "markdown",
   "id": "43fd5429",
   "metadata": {},
   "source": [
    "### Imports and Reading Data"
   ]
  },
  {
   "cell_type": "code",
   "execution_count": 1,
   "id": "1dfd3006",
   "metadata": {},
   "outputs": [],
   "source": [
    "import pandas as pd\n",
    "import numpy as np\n",
    "\n",
    "import seaborn as sns\n",
    "import matplotlib.pyplot as plt\n",
    "import matplotlib.dates as mdates\n",
    "from textblob import TextBlob\n",
    "\n",
    "from sklearn.model_selection import train_test_split\n",
    "from sklearn.linear_model import LinearRegression\n",
    "from sklearn.metrics import mean_squared_error, r2_score\n",
    "\n",
    "# sets the plot style to ggplot\n",
    "plt.style.use('ggplot')"
   ]
  },
  {
   "cell_type": "code",
   "execution_count": 2,
   "id": "e711e766",
   "metadata": {},
   "outputs": [],
   "source": [
    "data_path = \"../data/message_data.csv\"\n",
    "df = pd.read_csv(data_path)"
   ]
  },
  {
   "cell_type": "markdown",
   "id": "931aed67",
   "metadata": {},
   "source": [
    "## 01 - Sentiment labeling"
   ]
  },
  {
   "cell_type": "code",
   "execution_count": 3,
   "id": "ce957c0a",
   "metadata": {},
   "outputs": [
    {
     "name": "stdout",
     "output_type": "stream",
     "text": [
      "Dataset loaded successfully. Preview:\n",
      "                                        Subject  \\\n",
      "0                          EnronOptions Update!   \n",
      "1                                  (No Subject)   \n",
      "2  Phone Screen  Interview - Shannon L. Burnham   \n",
      "\n",
      "                                                body       date  \\\n",
      "0  EnronOptions Announcement\\n\\n\\nWe have updated...  5/10/2010   \n",
      "1  Marc,\\n\\nUnfortunately, today is not going to ...  7/29/2010   \n",
      "2  When: Wednesday, June 06, 2001 10:00 AM-11:00 ...  7/25/2011   \n",
      "\n",
      "                   from  \n",
      "0  sally.beck@enron.com  \n",
      "1   eric.bass@enron.com  \n",
      "2  sally.beck@enron.com  \n",
      "\n",
      "Dataset info:\n",
      "<class 'pandas.core.frame.DataFrame'>\n",
      "RangeIndex: 2191 entries, 0 to 2190\n",
      "Data columns (total 4 columns):\n",
      " #   Column   Non-Null Count  Dtype \n",
      "---  ------   --------------  ----- \n",
      " 0   Subject  2191 non-null   object\n",
      " 1   body     2191 non-null   object\n",
      " 2   date     2191 non-null   object\n",
      " 3   from     2191 non-null   object\n",
      "dtypes: object(4)\n",
      "memory usage: 68.6+ KB\n",
      "None\n"
     ]
    }
   ],
   "source": [
    "# Inspect data to understand its structure\n",
    "print(\"Dataset loaded successfully. Preview:\")\n",
    "print(df.head(3))\n",
    "print(\"\\nDataset info:\")\n",
    "print(df.info())"
   ]
  },
  {
   "cell_type": "code",
   "execution_count": 4,
   "id": "a0636893",
   "metadata": {},
   "outputs": [
    {
     "name": "stdout",
     "output_type": "stream",
     "text": [
      "Sentiment labeling complete. Preview:\n",
      "                                        Subject  \\\n",
      "0                          EnronOptions Update!   \n",
      "1                                  (No Subject)   \n",
      "2  Phone Screen  Interview - Shannon L. Burnham   \n",
      "\n",
      "                                                body       date  \\\n",
      "0  EnronOptions Announcement\\n\\n\\nWe have updated...  5/10/2010   \n",
      "1  Marc,\\n\\nUnfortunately, today is not going to ...  7/29/2010   \n",
      "2  When: Wednesday, June 06, 2001 10:00 AM-11:00 ...  7/25/2011   \n",
      "\n",
      "                   from Sentiment Label  \n",
      "0  sally.beck@enron.com        Positive  \n",
      "1   eric.bass@enron.com        Negative  \n",
      "2  sally.beck@enron.com         Neutral  \n",
      "\n",
      "Sentiment Labeled Dataset saved to ../data/message_data_labeled.csv\n"
     ]
    }
   ],
   "source": [
    "# Defines sentiment labeling function using TextBlob\n",
    "def get_sentiment_label(text):\n",
    "    \"\"\"\n",
    "    Returns a Positive, Negative, or a Neutral \n",
    "    score based on Textblob polarity\n",
    "    \"\"\"\n",
    "    text = str(text)\n",
    "    polarity = TextBlob(text).sentiment.polarity\n",
    "    \n",
    "    if polarity > 0:\n",
    "        return 'Positive'\n",
    "    elif polarity < 0:\n",
    "        return 'Negative'\n",
    "    else:\n",
    "        return 'Neutral'\n",
    "\n",
    "# Applies sentiment labeling to messages in a new column\n",
    "df['Sentiment Label'] = df['body'].apply(get_sentiment_label)\n",
    "\n",
    "print(\"Sentiment labeling complete. Preview:\")\n",
    "print(df.head(3))\n",
    "\n",
    "# Saves newly labeled dataset to data folder\n",
    "df.to_csv(\"../data/message_data_labeled.csv\", index= False)\n",
    "print(\"\\nSentiment Labeled Dataset saved to ../data/message_data_labeled.csv\")"
   ]
  },
  {
   "cell_type": "markdown",
   "id": "77740ebc",
   "metadata": {},
   "source": [
    "## 02 - Exploratory Data Analysis (EDA)"
   ]
  },
  {
   "cell_type": "markdown",
   "id": "52068ef7",
   "metadata": {},
   "source": []
  }
 ],
 "metadata": {
  "kernelspec": {
   "display_name": "emp_sentiment",
   "language": "python",
   "name": "python3"
  },
  "language_info": {
   "codemirror_mode": {
    "name": "ipython",
    "version": 3
   },
   "file_extension": ".py",
   "mimetype": "text/x-python",
   "name": "python",
   "nbconvert_exporter": "python",
   "pygments_lexer": "ipython3",
   "version": "3.10.18"
  }
 },
 "nbformat": 4,
 "nbformat_minor": 5
}
