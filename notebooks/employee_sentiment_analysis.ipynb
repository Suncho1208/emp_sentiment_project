{
 "cells": [],
 "metadata": {
  "kernelspec": {
   "display_name": "emp_sentiment",
   "language": "python",
   "name": "python3"
  },
  "language_info": {
   "name": "python",
   "version": "3.10.18"
  }
 },
 "nbformat": 4,
 "nbformat_minor": 5
}
